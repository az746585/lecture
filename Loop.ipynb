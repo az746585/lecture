{
 "cells": [
  {
   "cell_type": "code",
   "execution_count": null,
   "id": "f98fe2b9-8206-46f4-b6b1-f0c42c60e241",
   "metadata": {},
   "outputs": [],
   "source": [
    "def ii():\n",
    "    s = int(input(\"Enter THE SCORE OF STUDENT: \"))\n",
    "    return s\n",
    "def pro(s):\n",
    "    if s>=90 and s <100:\n",
    "        return \"You are SCORE to A GRADE \"\n",
    "    elif s>=80 and s <90:\n",
    "        return \"You are SCORE to B GRADE \"\n",
    "    elif s>=70 and s <80:\n",
    "        return \"You are SCORE to C GRADE \"\n",
    "    elif s>=60 and s <70:\n",
    "        return \"You are SCORE to D GRADE \"\n",
    "    else:\n",
    "        return \"You are SCORE to F GRADE\"\n",
    "\n",
    "def out(G):\n",
    "    print(G)\n",
    "s = ii()\n",
    "G = pro(s)\n",
    "out(G)"
   ]
  },
  {
   "cell_type": "code",
   "execution_count": null,
   "id": "399f3ba6-cfd5-415d-9552-7e0ddf59c0cc",
   "metadata": {},
   "outputs": [],
   "source": [
    "def age():\n",
    "    Age = int(input(\"Enter your Age: \"))\n",
    "    return Age\n",
    "def age_checker(Age):\n",
    "    if Age>18:\n",
    "        return \"You are Eligible to vote\"\n",
    "    else:\n",
    "        return \"You are not Eligible to vote\"\n",
    "\n",
    "def output(s):\n",
    "    print(s)\n",
    "user_age = age()\n",
    "s = age_checker(user_age)\n",
    "output(s)"
   ]
  },
  {
   "cell_type": "code",
   "execution_count": null,
   "id": "eb70132d-0778-4099-84d5-aa952815c95d",
   "metadata": {},
   "outputs": [],
   "source": [
    "g=[]\n",
    "for i in range(5):\n",
    "    gest=input(\"PLEASE ENTER IN GEST NAME\")\n",
    "    g.append(gest)\n",
    "print(g)"
   ]
  }
 ],
 "metadata": {
  "kernelspec": {
   "display_name": "Python 3 (ipykernel)",
   "language": "python",
   "name": "python3"
  },
  "language_info": {
   "codemirror_mode": {
    "name": "ipython",
    "version": 3
   },
   "file_extension": ".py",
   "mimetype": "text/x-python",
   "name": "python",
   "nbconvert_exporter": "python",
   "pygments_lexer": "ipython3",
   "version": "3.12.4"
  }
 },
 "nbformat": 4,
 "nbformat_minor": 5
}
